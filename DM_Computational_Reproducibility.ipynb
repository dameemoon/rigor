{
  "nbformat": 4,
  "nbformat_minor": 0,
  "metadata": {
    "colab": {
      "provenance": [],
      "authorship_tag": "ABX9TyNK6DBh7/4BEV5C7zJD3frz",
      "include_colab_link": true
    },
    "kernelspec": {
      "name": "python3",
      "display_name": "Python 3"
    },
    "language_info": {
      "name": "python"
    }
  },
  "cells": [
    {
      "cell_type": "markdown",
      "metadata": {
        "id": "view-in-github",
        "colab_type": "text"
      },
      "source": [
        "<a href=\"https://colab.research.google.com/github/dameemoon/rigor/blob/main/DM_Computational_Reproducibility.ipynb\" target=\"_parent\"><img src=\"https://colab.research.google.com/assets/colab-badge.svg\" alt=\"Open In Colab\"/></a>"
      ]
    },
    {
      "cell_type": "code",
      "execution_count": null,
      "metadata": {
        "id": "AQAHTwJQl_oK"
      },
      "outputs": [],
      "source": []
    },
    {
      "cell_type": "code",
      "source": [
        "from datetime import date\n",
        "\n",
        "print(date.today())\n",
        "print(10*10)"
      ],
      "metadata": {
        "colab": {
          "base_uri": "https://localhost:8080/"
        },
        "id": "Nl7WkFQrmBC2",
        "outputId": "df8ad771-44fd-4202-bbd7-30d7dbbae91f"
      },
      "execution_count": 1,
      "outputs": [
        {
          "output_type": "stream",
          "name": "stdout",
          "text": [
            "2024-10-30\n",
            "100\n"
          ]
        }
      ]
    },
    {
      "cell_type": "markdown",
      "source": [
        "Repositories, like GitHub, can help make computational reproducity more consistent and easy to upkeep. They help other scientists access and interact with the code and data pertinent to a project, not only at a single point-in-time of access, but continuously as the data and code get updated over time. Version control also allows for researchers to reliably track historical changes and overall aid in research data management."
      ],
      "metadata": {
        "id": "EwO_f7FdmkMI"
      }
    }
  ]
}